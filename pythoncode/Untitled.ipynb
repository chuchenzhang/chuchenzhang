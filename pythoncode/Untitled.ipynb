{
 "cells": [
  {
   "cell_type": "code",
   "execution_count": 2,
   "id": "37eac11c",
   "metadata": {},
   "outputs": [],
   "source": [
    "import tensorflow as tf"
   ]
  },
  {
   "cell_type": "code",
   "execution_count": 9,
   "id": "ab3f4d10",
   "metadata": {},
   "outputs": [],
   "source": [
    "import numpy as np"
   ]
  },
  {
   "cell_type": "code",
   "execution_count": 14,
   "id": "f2048360",
   "metadata": {},
   "outputs": [
    {
     "name": "stdout",
     "output_type": "stream",
     "text": [
      "tf.Tensor(\n",
      "[7.2000003 5.9       6.2000003 6.7000003 0.5       9.7       6.\n",
      " 3.1000001 0.8       4.9      ], shape=(10,), dtype=float32)\n",
      "tf.Tensor(\n",
      "[1.       6.6      8.8      9.       4.       2.       9.400001 7.9\n",
      " 6.3      2.8     ], shape=(10,), dtype=float32)\n",
      "tf.Tensor(\n",
      "[3.2       2.9       7.7000003 8.3       5.        2.7       5.6\n",
      " 5.2000003 9.8       2.3      ], shape=(10,), dtype=float32)\n",
      "tf.Tensor(\n",
      "[6.9       3.9       9.5       2.4       9.2       5.1       3.6000001\n",
      " 1.1       7.6       7.5      ], shape=(10,), dtype=float32)\n",
      "tf.Tensor(\n",
      "[5.7000003 0.7       6.1       8.400001  9.900001  4.8       6.8\n",
      " 0.        3.4       7.8      ], shape=(10,), dtype=float32)\n",
      "tf.Tensor(\n",
      "[1.8000001  8.         3.7        0.6        6.5        2.1000001\n",
      " 9.1        0.90000004 2.2        4.6       ], shape=(10,), dtype=float32)\n",
      "tf.Tensor(\n",
      "[7.3       1.7       0.4       2.5       5.4       5.3       0.2\n",
      " 4.3       1.3000001 0.1      ], shape=(10,), dtype=float32)\n",
      "tf.Tensor(\n",
      "[6.4       9.6       2.6000001 8.1       1.5       3.3       8.7\n",
      " 8.6       0.3       4.7000003], shape=(10,), dtype=float32)\n",
      "tf.Tensor(\n",
      "[1.4      8.900001 1.9      1.6      7.1      5.8      8.5      9.3\n",
      " 4.1      8.2     ], shape=(10,), dtype=float32)\n",
      "tf.Tensor(\n",
      "[5.5       4.5       4.4       3.5       3.8       3.        7.4\n",
      " 4.2000003 7.        1.2      ], shape=(10,), dtype=float32)\n"
     ]
    }
   ],
   "source": [
    "arr_list = np.arange(0,100).astype(np.float32)\n",
    "shape = arr_list.shape\n",
    "dataset = tf.data.Dataset.from_tensor_slices(arr_list)\n",
    "dataset_iterator = dataset.shuffle(shape[0]).batch(10)\n",
    "def model(xs):\n",
    "    outputs = tf.multiply(xs,0.1)\n",
    "    return outputs\n",
    "for it in dataset_iterator:\n",
    "    logits = model(it)\n",
    "    print(logits)"
   ]
  },
  {
   "cell_type": "code",
   "execution_count": 17,
   "id": "0b41016c",
   "metadata": {},
   "outputs": [
    {
     "ename": "NameError",
     "evalue": "name 'sess' is not defined",
     "output_type": "error",
     "traceback": [
      "\u001b[1;31m---------------------------------------------------------------------------\u001b[0m",
      "\u001b[1;31mNameError\u001b[0m                                 Traceback (most recent call last)",
      "\u001b[1;32m~\\AppData\\Local\\Temp\\ipykernel_5940\\550563722.py\u001b[0m in \u001b[0;36m<module>\u001b[1;34m\u001b[0m\n\u001b[0;32m      6\u001b[0m \u001b[1;33m\u001b[0m\u001b[0m\n\u001b[0;32m      7\u001b[0m \u001b[1;31m# sess = tf.Session()\u001b[0m\u001b[1;33m\u001b[0m\u001b[1;33m\u001b[0m\u001b[1;33m\u001b[0m\u001b[0m\n\u001b[1;32m----> 8\u001b[1;33m \u001b[0msess\u001b[0m\u001b[1;33m.\u001b[0m\u001b[0mrun\u001b[0m\u001b[1;33m(\u001b[0m\u001b[0meucNorm\u001b[0m\u001b[1;33m)\u001b[0m\u001b[1;33m\u001b[0m\u001b[1;33m\u001b[0m\u001b[0m\n\u001b[0m",
      "\u001b[1;31mNameError\u001b[0m: name 'sess' is not defined"
     ]
    }
   ],
   "source": [
    "import tensorflow as tf\n",
    "\n",
    "\n",
    "vector = tf.constant([4,5,6], dtype=tf.float32)\n",
    "eucNorm = tf.norm(vector, ord=\"euclidean\")\n",
    "\n",
    "# sess = tf.Session()\n",
    "sess.run(eucNorm)\n"
   ]
  }
 ],
 "metadata": {
  "kernelspec": {
   "display_name": "Python 3 (ipykernel)",
   "language": "python",
   "name": "python3"
  },
  "language_info": {
   "codemirror_mode": {
    "name": "ipython",
    "version": 3
   },
   "file_extension": ".py",
   "mimetype": "text/x-python",
   "name": "python",
   "nbconvert_exporter": "python",
   "pygments_lexer": "ipython3",
   "version": "3.7.10"
  }
 },
 "nbformat": 4,
 "nbformat_minor": 5
}
